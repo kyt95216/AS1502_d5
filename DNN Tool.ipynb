{
 "cells": [
  {
   "cell_type": "code",
   "execution_count": 1,
   "metadata": {},
   "outputs": [],
   "source": [
    "import tensorflow as tf\n",
    "import numpy as np\n",
    "\n",
    "from tensorflow.contrib.learn.python.learn.utils import input_fn_utils #export_savedmodel\n",
    "\n",
    "import matplotlib.pyplot as plt\n",
    "import io"
   ]
  },
  {
   "cell_type": "code",
   "execution_count": null,
   "metadata": {},
   "outputs": [],
   "source": [
    "input = np.loadtxt(\"sine.csv\", dtype='f', delimiter=',')\n",
    "#print(input)\n",
    "\n",
    "row = input.shape[0]\n",
    "col = input.shape[1]"
   ]
  },
  {
   "cell_type": "code",
   "execution_count": null,
   "metadata": {},
   "outputs": [],
   "source": [
    "#attributes and labels\n",
    "attributes = [[0 for i in range(col-1)] for j in range(row)]\n",
    "labels = []\n",
    "for i in range(row):\n",
    "    labels.append(0)\n",
    "\n",
    "for i in range(0, row):\n",
    "    for j in range(0, col):\n",
    "        if j < col -1:\n",
    "            attributes[i][j] = input[i][j]\n",
    "        else:\n",
    "            labels[i] = input[i][j]\n",
    "\n",
    "data =np.array(attributes, 'float32')\n",
    "target = np.array(labels, 'float32')"
   ]
  },
  {
   "cell_type": "code",
   "execution_count": null,
   "metadata": {},
   "outputs": [],
   "source": [
    "#nn learning parameters \n",
    "learningRate = 0.1\n",
    "epoch = 10000"
   ]
  },
  {
   "cell_type": "code",
   "execution_count": null,
   "metadata": {},
   "outputs": [],
   "source": [
    "feature_columns = [tf.contrib.layers.real_valued_column(\"\", dimension = col-1)]\n",
    "\n",
    "#neural network model\n",
    "regressor = tf.contrib.learn.DNNRegressor(\n",
    "    feature_columns = feature_columns\n",
    "    , hidden_units = [4] #a hidden layer consisting of 4 nodes\n",
    "    , optimizer = tf.train.GradientDescentOptimizer(learningRate)\n",
    "    , activation_fn = tf.nn.sigmoid\n",
    "    , model_dir = \"model\" #model will be stored in this folder\n",
    "    , config = tf.contrib.learn.RunConfig(save_checkpoints_secs = 1)\n",
    ")\n",
    "\n",
    "validation_monitor = tf.contrib.learn.monitors.ValidationMonitor(data, target, every_n_steps = 1000)\n",
    "\n",
    "regressor.fit(data, target, steps = epoch\n",
    "    , monitors = [validation_monitor]\n",
    ")\n",
    "\n",
    "\"\"\"\n",
    "#this block provides to export nn model language neutrally. in this way, same model can be used in high level systems such as Java\n",
    "feature_spec = tf.contrib.layers.create_feature_spec_for_parsing(feature_columns)\n",
    "serving_input_fn = input_fn_utils.build_parsing_serving_input_fn(feature_spec)\n",
    "regressor.export_savedmodel(regressor.model_dir+\"\\export\", serving_input_fn, as_text=True)\n",
    "\"\"\"\n",
    "\n",
    "def test_set():\n",
    "    return np.array(attributes, np.float32)\n",
    "\n",
    "predictions = regressor.predict_scores(input_fn = test_set)"
   ]
  },
  {
   "cell_type": "code",
   "execution_count": null,
   "metadata": {},
   "outputs": [],
   "source": [
    "#dumping predictions and actual sets\n",
    "\n",
    "index = 0\n",
    "for i in predictions:\n",
    "    print(\"actual: \", target[index],\", predic: \", i)\n",
    "    index = index + 1"
   ]
  },
  {
   "cell_type": "code",
   "execution_count": null,
   "metadata": {},
   "outputs": [],
   "source": [
    "#model performance\n",
    "eva = regressor.evaluate(data, target)\n",
    "print(\"MSE: \", eva[\"loss\"])"
   ]
  },
  {
   "cell_type": "code",
   "execution_count": null,
   "metadata": {},
   "outputs": [],
   "source": [
    "#visualizing predictions and actuals in TensorBoard\n",
    "\n",
    "#predictions have to be restored for processing\n",
    "predictions = regressor.predict_scores(input_fn = test_set)\n",
    "\n",
    "actuals = labels\n",
    "forecasts = list(predictions)\n",
    "\n",
    "forecast_writer = tf.summary.FileWriter('model/forecast')\n",
    "actual_writer = tf.summary.FileWriter('model/actual')\n",
    "\n",
    "for i in range(0, row):\n",
    "    actual_summary = tf.Summary(\n",
    "        value = [tf.Summary.Value(tag=\"summary_tag\", simple_value= actuals[i])])\n",
    "    forecast_summary = tf.Summary(\n",
    "        value = [tf.Summary.Value(tag=\"summary_tag\", simple_value= forecasts[i])])\n",
    "    \n",
    "    actual_writer.add_summary(actual_summary, i)\n",
    "    forecast_writer.add_summary(forecast_summary, i)"
   ]
  },
  {
   "cell_type": "code",
   "execution_count": null,
   "metadata": {},
   "outputs": [],
   "source": [
    "\"\"\"\n",
    "#x-axis: time, y-axis:value. actual and forecast values are plotted as 2 line in same graph. \n",
    "#this graph cannot be readable for displaying too many point\n",
    "plt.plot(actuals)\n",
    "plt.plot(forecasts)\n",
    "plt.show()\n",
    "\"\"\"\n",
    "\n",
    "\"\"\"\n",
    "#x-axis represents predicted values whereas y-axis represents actual values. \n",
    "plt.scatter(actuals, forecasts)\n",
    "plt.xlabel('predicted')\n",
    "plt.ylabel('actual')\n",
    "plt.show()\n",
    "\"\"\""
   ]
  },
  {
   "cell_type": "code",
   "execution_count": null,
   "metadata": {},
   "outputs": [],
   "source": [
    "#embedding matplotlib graph in TensorBoard\n",
    "\n",
    "def create_plot(actuals, forecasts):\n",
    "    plt.figure()\n",
    "    plt.scatter(actuals, forecasts)\n",
    "    buf = io.BytesIO()\n",
    "    plt.savefig(buf, format='png')\n",
    "    buf.seek(0)\n",
    "    return buf\n",
    "\n",
    "plot_buf = create_plot(actuals, forecasts)\n",
    "image = tf.image.decode_png(plot_buf.getvalue(), channels=4)\n",
    "image = tf.expand_dims(image, 0)\n",
    "\n",
    "summary_img = tf.summary.image(\"scatter_plot\", image)\n",
    "\n",
    "sess = tf.Session()\n",
    "\n",
    "summary = sess.run(summary_img)\n",
    "writer = tf.summary.FileWriter('model/logs')\n",
    "writer.add_summary(summary)"
   ]
  }
 ],
 "metadata": {
  "kernelspec": {
   "display_name": "Python 3",
   "language": "python",
   "name": "python3"
  },
  "language_info": {
   "codemirror_mode": {
    "name": "ipython",
    "version": 3
   },
   "file_extension": ".py",
   "mimetype": "text/x-python",
   "name": "python",
   "nbconvert_exporter": "python",
   "pygments_lexer": "ipython3",
   "version": "3.6.6"
  }
 },
 "nbformat": 4,
 "nbformat_minor": 2
}
