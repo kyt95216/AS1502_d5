{
 "cells": [
  {
   "cell_type": "code",
   "execution_count": null,
   "metadata": {},
   "outputs": [],
   "source": [
    "import tensorflow as tf\n",
    "\n",
    "n_inputs = 28*28  # MNIST\n",
    "n_hidden1 = 300\n",
    "n_hidden2 = 100\n",
    "n_outputs = 10"
   ]
  },
  {
   "cell_type": "code",
   "execution_count": 10,
   "metadata": {},
   "outputs": [],
   "source": [
    "import pandas as pd\n",
    "df = pd.read_excel(r'P:\\data_analyzer\\AS1502BTMD5\\process_data/data.xlsx')"
   ]
  },
  {
   "cell_type": "code",
   "execution_count": null,
   "metadata": {},
   "outputs": [],
   "source": [
    "X = tf.placeholder(tf.float32, shape=(None, n_inputs), name=\"X\")#[batch_size,n_inputs]\n",
    "y = tf.placeholder(tf.int32, shape=(None), name=\"y\")#[batch_size,1]"
   ]
  },
  {
   "cell_type": "code",
   "execution_count": null,
   "metadata": {},
   "outputs": [],
   "source": [
    "def neuron_layer(X, n_neurons, name, activation=None):\n",
    "    with tf.name_scope(name):\n",
    "        n_inputs = int(X.get_shape()[1])#[1,n_inputs]\n",
    "        stddev = 2 / np.sqrt(n_inputs)\n",
    "        init = tf.truncated_normal((n_inputs, n_neurons), stddev=stddev)\n",
    "        W = tf.Variable(init, name=\"kernel\")\n",
    "        b = tf.Variable(tf.zeros([n_neurons]), name=\"bias\")\n",
    "        Z = tf.matmul(X, W) + b\n",
    "        if activation is not None:#활성화 함수가 지정된 경우\n",
    "            return activation(Z)#활성화 함수에 Z를 넣어 함수 값 반환\n",
    "        else:\n",
    "            return Z#아니면 Z를 반환"
   ]
  },
  {
   "cell_type": "code",
   "execution_count": 17,
   "metadata": {
    "collapsed": true
   },
   "outputs": [
    {
     "ename": "NameError",
     "evalue": "name 'tf' is not defined",
     "output_type": "error",
     "traceback": [
      "\u001b[1;31m---------------------------------------------------------------------------\u001b[0m",
      "\u001b[1;31mNameError\u001b[0m                                 Traceback (most recent call last)",
      "\u001b[1;32m<ipython-input-17-456593cf6eb7>\u001b[0m in \u001b[0;36m<module>\u001b[1;34m()\u001b[0m\n\u001b[1;32m----> 1\u001b[1;33m \u001b[1;32mwith\u001b[0m \u001b[0mtf\u001b[0m\u001b[1;33m.\u001b[0m\u001b[0mname_scope\u001b[0m\u001b[1;33m(\u001b[0m\u001b[1;34m\"dnn\"\u001b[0m\u001b[1;33m)\u001b[0m\u001b[1;33m:\u001b[0m\u001b[1;31m#이름 범위를 사용하여 정리\u001b[0m\u001b[1;33m\u001b[0m\u001b[0m\n\u001b[0m\u001b[0;32m      2\u001b[0m     hidden1 = neuron_layer(X, n_hidden1, name=\"hidden1\",\n\u001b[0;32m      3\u001b[0m                            activation=tf.nn.relu)#[batch_size, 300]\n\u001b[0;32m      4\u001b[0m     hidden2 = neuron_layer(hidden1, n_hidden2, name=\"hidden2\",\n\u001b[0;32m      5\u001b[0m                            activation=tf.nn.relu)#[batch_size, 100]\n",
      "\u001b[1;31mNameError\u001b[0m: name 'tf' is not defined"
     ]
    }
   ],
   "source": [
    "with tf.name_scope(\"dnn\"):#이름 범위를 사용하여 정리\n",
    "    hidden1 = neuron_layer(X, n_hidden1, name=\"hidden1\",\n",
    "                           activation=tf.nn.relu)#[batch_size, 300]\n",
    "    hidden2 = neuron_layer(hidden1, n_hidden2, name=\"hidden2\",\n",
    "                           activation=tf.nn.relu)#[batch_size, 100]\n",
    "    logits = neuron_layer(hidden2, n_outputs, name=\"outputs\")#[batch_size, 10]\n",
    "    #활성화 함수에 들어가기 전"
   ]
  },
  {
   "cell_type": "code",
   "execution_count": null,
   "metadata": {},
   "outputs": [],
   "source": [
    "with tf.name_scope(\"loss\"):\n",
    "    xentropy = tf.nn.sparse_softmax_cross_entropy_with_logits(labels=y,\n",
    "                                                              logits=logits)\n",
    "    #[batch_size,1]\n",
    "    loss = tf.reduce_mean(xentropy, name=\"loss\")#[1]"
   ]
  },
  {
   "cell_type": "code",
   "execution_count": null,
   "metadata": {},
   "outputs": [],
   "source": [
    "learning_rate = 0.01\n",
    "\n",
    "with tf.name_scope(\"train\"):\n",
    "    optimizer = tf.train.GradientDescentOptimizer(learning_rate)\n",
    "    training_op = optimizer.minimize(loss)"
   ]
  },
  {
   "cell_type": "code",
   "execution_count": null,
   "metadata": {},
   "outputs": [],
   "source": [
    "with tf.name_scope(\"eval\"):\n",
    "    correct = tf.nn.in_top_k(logits, y, 1)\n",
    "    accuracy = tf.reduce_mean(tf.cast(correct, tf.float32))"
   ]
  },
  {
   "cell_type": "code",
   "execution_count": null,
   "metadata": {},
   "outputs": [],
   "source": [
    "init = tf.global_variables_initializer()\n",
    "saver = tf.train.Saver()"
   ]
  },
  {
   "cell_type": "code",
   "execution_count": null,
   "metadata": {},
   "outputs": [],
   "source": [
    "n_epochs = 40\n",
    "batch_size = 50"
   ]
  },
  {
   "cell_type": "code",
   "execution_count": null,
   "metadata": {},
   "outputs": [],
   "source": [
    "def shuffle_batch(X, y, batch_size):\n",
    "    rnd_idx = np.random.permutation(len(X))\n",
    "    n_batches = len(X) // batch_size\n",
    "    for batch_idx in np.array_split(rnd_idx, n_batches):\n",
    "        X_batch, y_batch = X[batch_idx], y[batch_idx]\n",
    "        yield X_batch, y_batch"
   ]
  },
  {
   "cell_type": "code",
   "execution_count": 11,
   "metadata": {
    "collapsed": true
   },
   "outputs": [
    {
     "data": {
      "text/plain": [
       "0      39.964777\n",
       "1      39.970199\n",
       "2      39.966537\n",
       "3      39.969568\n",
       "4      39.967913\n",
       "5      39.967108\n",
       "6      39.967446\n",
       "7      39.967946\n",
       "8      39.968303\n",
       "9      39.968192\n",
       "10     39.969706\n",
       "11     39.969413\n",
       "12     39.969203\n",
       "13     39.970724\n",
       "14     39.966477\n",
       "15     39.965515\n",
       "16     39.970668\n",
       "17     39.970917\n",
       "18     39.968386\n",
       "19     35.000083\n",
       "20     37.004631\n",
       "21     38.001419\n",
       "22     39.999048\n",
       "23     37.750786\n",
       "24     38.051577\n",
       "25     38.114633\n",
       "26     38.382566\n",
       "27     38.462994\n",
       "28     38.189412\n",
       "29     37.992600\n",
       "         ...    \n",
       "676     1.602520\n",
       "677     1.997177\n",
       "678     8.003182\n",
       "679    18.000592\n",
       "680    16.000743\n",
       "681    20.000000\n",
       "682    20.000000\n",
       "683    19.999771\n",
       "684    14.999476\n",
       "685    14.001176\n",
       "686    13.997489\n",
       "687    14.000105\n",
       "688    12.999853\n",
       "689     6.999210\n",
       "690     5.004553\n",
       "691     8.001305\n",
       "692     8.003111\n",
       "693     8.000560\n",
       "694     7.996323\n",
       "695     8.000725\n",
       "696     8.000506\n",
       "697     8.001679\n",
       "698     7.999430\n",
       "699     8.001962\n",
       "700     7.999747\n",
       "701     8.000120\n",
       "702     7.999475\n",
       "703     7.999448\n",
       "704     7.995646\n",
       "705     7.999140\n",
       "Name: x1, Length: 706, dtype: float64"
      ]
     },
     "execution_count": 11,
     "metadata": {},
     "output_type": "execute_result"
    }
   ],
   "source": [
    "def split_train_test(data,val_ratio,test_ratio):\n",
    "    test_set_size = int(len(data)*test_ratio)\n",
    "    val_set_size = int(len(data)*val_ratio)\n",
    "    test_indices = \n",
    "    return data.iloc[]"
   ]
  },
  {
   "cell_type": "code",
   "execution_count": 18,
   "metadata": {},
   "outputs": [],
   "source": [
    "import numpy as np"
   ]
  },
  {
   "cell_type": "code",
   "execution_count": 21,
   "metadata": {},
   "outputs": [
    {
     "ename": "SyntaxError",
     "evalue": "invalid syntax (<ipython-input-21-9e822f05c128>, line 1)",
     "output_type": "error",
     "traceback": [
      "\u001b[1;36m  File \u001b[1;32m\"<ipython-input-21-9e822f05c128>\"\u001b[1;36m, line \u001b[1;32m1\u001b[0m\n\u001b[1;33m    np.array(1:2)\u001b[0m\n\u001b[1;37m              ^\u001b[0m\n\u001b[1;31mSyntaxError\u001b[0m\u001b[1;31m:\u001b[0m invalid syntax\n"
     ]
    }
   ],
   "source": []
  },
  {
   "cell_type": "code",
   "execution_count": null,
   "metadata": {},
   "outputs": [],
   "source": []
  }
 ],
 "metadata": {
  "kernelspec": {
   "display_name": "Python 3",
   "language": "python",
   "name": "python3"
  },
  "language_info": {
   "codemirror_mode": {
    "name": "ipython",
    "version": 3
   },
   "file_extension": ".py",
   "mimetype": "text/x-python",
   "name": "python",
   "nbconvert_exporter": "python",
   "pygments_lexer": "ipython3",
   "version": "3.6.6"
  }
 },
 "nbformat": 4,
 "nbformat_minor": 2
}
